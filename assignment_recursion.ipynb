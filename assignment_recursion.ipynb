{
 "cells": [
  {
   "cell_type": "code",
   "execution_count": 14,
   "id": "4e853e23-7725-4eec-99e3-596cb7e2f9f5",
   "metadata": {},
   "outputs": [
    {
     "name": "stdout",
     "output_type": "stream",
     "text": [
      " move disk 1 from rod A to rod B\n",
      " move disk from 2 from rod A to rod C\n",
      " move disk 1 from rod B to rod C\n",
      " move disk from 3 from rod A to rod B\n",
      " move disk 1 from rod C to rod A\n",
      " move disk from 2 from rod C to rod B\n",
      " move disk 1 from rod A to rod B\n",
      " move disk from 4 from rod A to rod C\n",
      " move disk 1 from rod B to rod C\n",
      " move disk from 2 from rod B to rod A\n",
      " move disk 1 from rod C to rod A\n",
      " move disk from 3 from rod B to rod C\n",
      " move disk 1 from rod A to rod B\n",
      " move disk from 2 from rod A to rod C\n",
      " move disk 1 from rod B to rod C\n"
     ]
    }
   ],
   "source": [
    "## 1. To solve problem of Tower of Hanoi using function \n",
    "\n",
    "# time complexity 0^2 \n",
    "# space complexity is 0(n) \n",
    "\n",
    "def Tower_of_Hanoi(n , SoR , ToR , AoR):\n",
    "    if n==1:\n",
    "        print(f\" move disk 1 from rod {SoR} to rod {ToR}\") \n",
    "        return \n",
    "    Tower_of_Hanoi( n-1 , SoR , AoR, ToR )\n",
    "    print(f\" move disk from {n} from rod {SoR} to rod {ToR}\")\n",
    "    Tower_of_Hanoi( n-1  , AoR, ToR, SoR )\n",
    "        \n",
    "\n",
    "n=4 \n",
    "Tower_of_Hanoi( n ,'A','C','B')\n"
   ]
  },
  {
   "cell_type": "code",
   "execution_count": 13,
   "id": "7e44e771-80f7-40b6-af43-a325bd12f3a4",
   "metadata": {},
   "outputs": [
    {
     "name": "stdout",
     "output_type": "stream",
     "text": [
      "Move disk 1 from rod A to rod B\n",
      "Move disk 2 from rod A to rod C\n",
      "Move disk 1 from rod B to rod C\n",
      "Move disk 3 from rod A to rod B\n",
      "Move disk 1 from rod C to rod A\n",
      "Move disk 2 from rod C to rod B\n",
      "Move disk 1 from rod A to rod B\n",
      "Move disk 4 from rod A to rod C\n",
      "Move disk 1 from rod B to rod C\n",
      "Move disk 2 from rod B to rod A\n",
      "Move disk 1 from rod C to rod A\n",
      "Move disk 3 from rod B to rod C\n",
      "Move disk 1 from rod A to rod B\n",
      "Move disk 2 from rod A to rod C\n",
      "Move disk 1 from rod B to rod C\n"
     ]
    }
   ],
   "source": [
    "# using class and object \n",
    "class HanoiSolver:\n",
    "    def __init__(self, n):\n",
    "        self.n = n\n",
    "\n",
    "    def solve(self, source_rod='A', target_rod='C', auxiliary_rod='B'):\n",
    "        self._tower_of_hanoi(self.n, source_rod, target_rod, auxiliary_rod)\n",
    "\n",
    "    def _tower_of_hanoi(self, n, source_rod, target_rod, auxiliary_rod):\n",
    "        if n == 1:\n",
    "            print(f\"Move disk 1 from rod {source_rod} to rod {target_rod}\")\n",
    "            return\n",
    "        self._tower_of_hanoi(n - 1, source_rod, auxiliary_rod, target_rod)\n",
    "        print(f\"Move disk {n} from rod {source_rod} to rod {target_rod}\")\n",
    "        self._tower_of_hanoi(n - 1, auxiliary_rod, target_rod, source_rod)\n",
    "\n",
    "# Example usage\n",
    "n_disks = 4\n",
    "hanoi_solver = HanoiSolver(n_disks)\n",
    "hanoi_solver.solve()"
   ]
  },
  {
   "cell_type": "code",
   "execution_count": 2,
   "id": "e58c9974-e613-4512-b3c9-0e222b98c0bd",
   "metadata": {},
   "outputs": [
    {
     "name": "stdout",
     "output_type": "stream",
     "text": [
      "3\n"
     ]
    }
   ],
   "source": [
    "# Q.2 Given two strings word1 and word2, return the minimum number of operations required to convert word1 to word2.\n",
    "''' \n",
    "Example 1:\n",
    "Input: word1 = \"horse\", word2 = \"ros\"\n",
    "Output: 3\n",
    "Explanation:\n",
    "horse -> rorse (replace 'h' with 'r')\n",
    "rorse -> rose (remove 'r')\n",
    "rose -> ros (remove 'e')\n",
    "'''\n",
    "class Solution:\n",
    "    def minDistance(self, word1, word2):\n",
    "        def helper(i, j):\n",
    "            if i == 0:\n",
    "                return j\n",
    "            if j == 0:\n",
    "                return i\n",
    "            if word1[i - 1] == word2[j - 1]:\n",
    "                return helper(i - 1, j - 1)\n",
    "            else:\n",
    "                insert = helper(i, j - 1) + 1\n",
    "                delete = helper(i - 1, j) + 1\n",
    "                replace = helper(i - 1, j - 1) + 1\n",
    "                return min(insert, delete, replace)\n",
    "\n",
    "        return helper(len(word1), len(word2))\n",
    "\n",
    "\n",
    "word1 = \"horse\"\n",
    "word2 = \"ros\"\n",
    "solution = Solution()\n",
    "print(solution.minDistance(word1, word2)) \n"
   ]
  },
  {
   "cell_type": "code",
   "execution_count": 5,
   "id": "47ae4dcc-a910-4834-a4f5-e0b5669f6a9a",
   "metadata": {},
   "outputs": [
    {
     "name": "stdout",
     "output_type": "stream",
     "text": [
      "5\n"
     ]
    }
   ],
   "source": [
    "'''\n",
    "Example 2:\n",
    "Input: word1 = \"intention\", word2 = \"execution\"\n",
    "Output: 5\n",
    "Explanation:\n",
    "intention -> inention (remove 't')\n",
    "inention -> enention (replace 'i' with 'e')\n",
    "enention -> exention (replace 'n' with 'x')\n",
    "exention -> exection (replace 'n' with 'c')\n",
    "exection -> execution (insert 'u')\n",
    "'''\n",
    "def minDistance(self, word1, word2):\n",
    "        n, m = len(word1), len(word2)\n",
    "        dp = [[0] * (m + 1) for _ in range(n + 1)]\n",
    "\n",
    "        for i in range(n + 1):\n",
    "            dp[i][0] = i\n",
    "        for j in range(m + 1):\n",
    "            dp[0][j] = j\n",
    "\n",
    "        for i in range(1, n + 1):\n",
    "            for j in range(1, m + 1):\n",
    "                if word1[i - 1] == word2[j - 1]:\n",
    "                    dp[i][j] = dp[i - 1][j - 1]\n",
    "                else:\n",
    "                    insert = dp[i][j - 1] + 1\n",
    "                    delete = dp[i - 1][j] + 1\n",
    "                    replace = dp[i - 1][j - 1] + 1\n",
    "                    dp[i][j] = min(insert, delete, replace)\n",
    "\n",
    "        return dp[n][m]\n",
    "    \n",
    "\n",
    "word1 = \"intention\"\n",
    "word2 = \"execution\"\n",
    "solution = Solution()\n",
    "print(solution.minDistance(word1, word2))  \n"
   ]
  },
  {
   "cell_type": "code",
   "execution_count": 3,
   "id": "4982fd60-815b-491c-aaae-f1d6cafae8fc",
   "metadata": {},
   "outputs": [
    {
     "name": "stdout",
     "output_type": "stream",
     "text": [
      "maximun vallue in array  22\n"
     ]
    }
   ],
   "source": [
    "## Q. 3 Print the max value of the array [ 13, 1, -3, 22, 5].\n",
    "\n",
    "def max_value(arr , n):\n",
    "    if n==1:\n",
    "        return arr[0]\n",
    "    \n",
    "    return max (arr[n-1]  , max_value (arr , n-1))\n",
    "\n",
    "\n",
    "array=[13,1,-3,22,5]\n",
    "max_values=max_value(array , len(array))\n",
    "print(\"maximun vallue in array \", max_values)"
   ]
  },
  {
   "cell_type": "code",
   "execution_count": 9,
   "id": "552ca5ad-7412-49f7-8b38-01e461e7258a",
   "metadata": {},
   "outputs": [
    {
     "name": "stdout",
     "output_type": "stream",
     "text": [
      "sum of all array  120\n"
     ]
    }
   ],
   "source": [
    "##Q.4 Find the sum of the values of the array [92, 23, 15, -20, 10]\n",
    "\n",
    "def sum_array(arr):\n",
    "    if not arr:\n",
    "        return 0\n",
    "    return (arr[0] + sum_array(arr[1:]))\n",
    "\n",
    "\n",
    "array=[92, 23, 15, -20, 10]\n",
    "array1=sum_array(array)\n",
    "print(\"sum of all array \", array1)\n",
    "    "
   ]
  },
  {
   "cell_type": "code",
   "execution_count": 8,
   "id": "6abb7f99-5720-4447-bcba-6edcd7ce1f1a",
   "metadata": {},
   "outputs": [
    {
     "name": "stdin",
     "output_type": "stream",
     "text": [
      "enter the number : 134\n"
     ]
    },
    {
     "name": "stdout",
     "output_type": "stream",
     "text": [
      " 134 NO ,it is not an Armstrong number\n"
     ]
    }
   ],
   "source": [
    "#Q.5 Given a number n. Print if it is an armstrong number or not.An armstrong number is a number if the sum\n",
    "# of every digit in that number raised to the power of total digits in that number is equal to the number.\n",
    "'''\n",
    "Example : 153 = 1^3 + 5^3 + 3^3 = 1 + 125 + 27 = 153 hence 153 is an armstrong number. (Easy)\n",
    "Input1 : 153\n",
    "Output1 : Yes\n",
    "Input 2 : 134\n",
    "Output2 : No '''\n",
    "\n",
    "\n",
    "def Armstrong(n,order= None ,sum_of=0):\n",
    "    if order is None:\n",
    "        order = len(str(n))\n",
    "    if n==0:\n",
    "        return sum_of\n",
    "    else:\n",
    "        return Armstrong(n//10,order,sum_of+(n%10)**order)\n",
    "    \n",
    "number = int(input(\"enter the number :\"))\n",
    "order = len(str(number))\n",
    "    \n",
    "if number == Armstrong(number , order):\n",
    "    print(f\" {number} YES ,it is an Armstrong number\")\n",
    "else:\n",
    "    print(f\" {number} NO ,it is not an Armstrong number\")"
   ]
  },
  {
   "cell_type": "code",
   "execution_count": null,
   "id": "dcacc39f-c3ab-419c-adad-881ec55c5508",
   "metadata": {},
   "outputs": [],
   "source": [
    "\n"
   ]
  },
  {
   "cell_type": "code",
   "execution_count": null,
   "id": "2cc67669-41bd-40c0-913b-723cae36578a",
   "metadata": {},
   "outputs": [],
   "source": [
    "\n"
   ]
  },
  {
   "cell_type": "code",
   "execution_count": null,
   "id": "d1752b55-c6e7-40f1-b575-2da97e01363b",
   "metadata": {},
   "outputs": [],
   "source": []
  },
  {
   "cell_type": "code",
   "execution_count": null,
   "id": "ae8daa04-c0a4-4590-8731-485892d53a55",
   "metadata": {},
   "outputs": [],
   "source": []
  }
 ],
 "metadata": {
  "kernelspec": {
   "display_name": "Python 3 (ipykernel)",
   "language": "python",
   "name": "python3"
  },
  "language_info": {
   "codemirror_mode": {
    "name": "ipython",
    "version": 3
   },
   "file_extension": ".py",
   "mimetype": "text/x-python",
   "name": "python",
   "nbconvert_exporter": "python",
   "pygments_lexer": "ipython3",
   "version": "3.10.8"
  }
 },
 "nbformat": 4,
 "nbformat_minor": 5
}

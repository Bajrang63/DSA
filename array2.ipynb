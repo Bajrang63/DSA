{
  "nbformat": 4,
  "nbformat_minor": 0,
  "metadata": {
    "colab": {
      "provenance": []
    },
    "kernelspec": {
      "name": "python3",
      "display_name": "Python 3"
    },
    "language_info": {
      "name": "python"
    }
  },
  "cells": [
    {
      "cell_type": "code",
      "execution_count": 2,
      "metadata": {
        "colab": {
          "base_uri": "https://localhost:8080/"
        },
        "id": "PEd5cNl_ZreS",
        "outputId": "50ff522f-708b-47b0-a63f-1f5997de8bac"
      },
      "outputs": [
        {
          "output_type": "stream",
          "name": "stdout",
          "text": [
            "output  True\n"
          ]
        }
      ],
      "source": [
        "## 1.Given an array, check if it contains any duplicates or not.\n",
        "'''arr = [1, 2, 4, 2, 5, 9]\n",
        "Output = True\n",
        "'''\n",
        "\n",
        "def is_duplicates(arr):\n",
        "  return len(arr) != len(set(arr))\n",
        "\n",
        "arr=[1,2,4,2,5,9]\n",
        "result=is_duplicates(arr)\n",
        "print (f\"output  {result}\")"
      ]
    },
    {
      "cell_type": "code",
      "source": [
        "## 2. Given an array and an integer k, rotate the array to the right by k steps.\n",
        "'''arr = [1, 2, 3, 4, 5, 6, 7]\n",
        "k = 3\n",
        "Output = [5, 6, 7, 1, 2, 3, 4]\n",
        "'''\n",
        "\n",
        "def rotate_array(arr , k):\n",
        "  n=len(arr)\n",
        "  k%=n\n",
        "\n",
        "  rotate_array1 = arr[:]\n",
        "  for i in range(n):\n",
        "    rotate_array1[(i + k) % n]=arr[i]\n",
        "  return rotate_array1\n",
        "\n",
        "arr=[1,2,3,4,5,6,7]\n",
        "k=3\n",
        "result=rotate_array(arr , k)\n",
        "print(f\" Rotated array {result}\")"
      ],
      "metadata": {
        "colab": {
          "base_uri": "https://localhost:8080/"
        },
        "id": "9HAaSoJic214",
        "outputId": "c3b2b85f-7f3a-488b-b48b-3d775f3b5562"
      },
      "execution_count": 9,
      "outputs": [
        {
          "output_type": "stream",
          "name": "stdout",
          "text": [
            " Rotated array [5, 6, 7, 1, 2, 3, 4]\n"
          ]
        }
      ]
    },
    {
      "cell_type": "code",
      "source": [
        "## 3. Reverse the given array in-place, means without using any extra data structure.\n",
        "'''arr = [2, 4, 5, 7, 9, 12]\n",
        "Output = [12, 9, 7, 5, 4, 2]\n",
        "'''\n",
        "\n",
        "def reverse_array(arr):\n",
        "  left,right=0,len(arr)-1\n",
        "\n",
        "  while left < right:\n",
        "    arr[left] , arr[right] = arr[right] , arr[left]\n",
        "    left+=1\n",
        "    right-=1\n",
        "\n",
        "arr=[2,4,5,7,9,12]\n",
        "result=reverse_array(arr)\n",
        "\n",
        "result=arr\n",
        "result"
      ],
      "metadata": {
        "colab": {
          "base_uri": "https://localhost:8080/"
        },
        "id": "Nm7__5B4hvGI",
        "outputId": "3fa176c4-9dec-45fe-a7ab-6c99e0494548"
      },
      "execution_count": 13,
      "outputs": [
        {
          "output_type": "execute_result",
          "data": {
            "text/plain": [
              "[12, 9, 7, 5, 4, 2]"
            ]
          },
          "metadata": {},
          "execution_count": 13
        }
      ]
    },
    {
      "cell_type": "code",
      "source": [
        "## 4. Given an array of integers, find the maximum element in an array\n",
        "'''arr = [10, 5, 20, 8, 15]\n",
        "Output = 20'''\n",
        "\n",
        "def find_max(arr):\n",
        "    max_val = arr[0]\n",
        "    for num in arr:\n",
        "        if num > max_val:\n",
        "            max_val = num\n",
        "    return max_val\n",
        "\n",
        "arr = [10, 5, 20, 8, 15]\n",
        "result = find_max(arr)\n",
        "print(\"Maximum element in the array:\", result)\n"
      ],
      "metadata": {
        "colab": {
          "base_uri": "https://localhost:8080/"
        },
        "id": "wzxyRbdXkBFy",
        "outputId": "3eb3e2d9-7262-4850-c84d-01afa94d087c"
      },
      "execution_count": 14,
      "outputs": [
        {
          "output_type": "stream",
          "name": "stdout",
          "text": [
            "Maximum element in the array: 20\n"
          ]
        }
      ]
    },
    {
      "cell_type": "code",
      "source": [
        "## Given a sorted array, remove the duplicate element without using any extra data structure.\n",
        "'''arr = [1, 1, 2, 2, 2, 3, 3, 4, 4, 4, 5, 5]\n",
        "Output = [1, 2, 3, 4, 5]'''\n",
        "\n",
        "def remove_duplicates(arr):\n",
        "    n = len(arr)\n",
        "    if n <= 1:\n",
        "        return n\n",
        "\n",
        "    j = 0\n",
        "    for i in range(n):\n",
        "        if arr[i] != arr[j]:\n",
        "            j += 1\n",
        "            arr[j] = arr[i]\n",
        "\n",
        "    return j + 1\n",
        "\n",
        "arr = [1, 1, 2, 2, 2, 3, 3, 4, 4, 4, 5, 5]\n",
        "n = remove_duplicates(arr)\n",
        "result = arr[:n]\n",
        "result\n"
      ],
      "metadata": {
        "colab": {
          "base_uri": "https://localhost:8080/"
        },
        "id": "A9M3W5g3luHR",
        "outputId": "3fba09d5-4a60-44be-c6bf-f9d8e7acfe8e"
      },
      "execution_count": 15,
      "outputs": [
        {
          "output_type": "execute_result",
          "data": {
            "text/plain": [
              "[1, 2, 3, 4, 5]"
            ]
          },
          "metadata": {},
          "execution_count": 15
        }
      ]
    },
    {
      "cell_type": "code",
      "source": [],
      "metadata": {
        "id": "bqjkfbqbm42f"
      },
      "execution_count": null,
      "outputs": []
    }
  ]
}
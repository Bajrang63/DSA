{
  "nbformat": 4,
  "nbformat_minor": 0,
  "metadata": {
    "colab": {
      "provenance": []
    },
    "kernelspec": {
      "name": "python3",
      "display_name": "Python 3"
    },
    "language_info": {
      "name": "python"
    }
  },
  "cells": [
    {
      "cell_type": "code",
      "execution_count": 1,
      "metadata": {
        "colab": {
          "base_uri": "https://localhost:8080/"
        },
        "id": "SyLsNYEOV5Xd",
        "outputId": "63ff1964-2448-4b2b-abd0-377e7f73791d"
      },
      "outputs": [
        {
          "output_type": "stream",
          "name": "stdout",
          "text": [
            "hello\n"
          ]
        }
      ],
      "source": [
        "print(\"hello\")"
      ]
    },
    {
      "cell_type": "code",
      "source": [
        "#1. Write a function to reverse a singly linked list\n",
        "\n",
        "class ListNode:\n",
        "    def __init__(self, value=0, next=None):\n",
        "        self.value = value\n",
        "        self.next = next\n",
        "class ListNode:\n",
        "    def __init__(self, value=0, next=None):\n",
        "        self.value = value\n",
        "        self.next = next\n",
        "\n",
        "def reverse_linked_list(head):\n",
        "    prev = None\n",
        "    current = head\n",
        "\n",
        "    while current is not None:\n",
        "        next_node = current.next\n",
        "        current.next = prev\n",
        "        prev = current\n",
        "        current = next_node\n",
        "\n",
        "    return prev  # New head of the reversed lis\n",
        "\n",
        "# Helper function to print the linked list\n",
        "def print_list(head):\n",
        "    current = head\n",
        "    while current:\n",
        "        print(current.value, end=\" -> \")\n",
        "        current = current.next\n",
        "    print(\"None\")\n",
        "\n",
        "# Create a linked list: 1 -> 2 -> 3 -> 4 -> None\n",
        "head = ListNode(1, ListNode(2, ListNode(3, ListNode(4))))\n",
        "\n",
        "print(\"Original list:\")\n",
        "print_list(head)\n",
        "\n",
        "# Reverse the linked list\n",
        "reversed_head = reverse_linked_list(head)\n",
        "\n",
        "print(\"Reversed list:\")\n",
        "print_list(reversed_head)\n"
      ],
      "metadata": {
        "colab": {
          "base_uri": "https://localhost:8080/"
        },
        "id": "mhXzc5DVV_dP",
        "outputId": "eb67ad45-a838-4f5b-9d61-8752621de6c9"
      },
      "execution_count": 3,
      "outputs": [
        {
          "output_type": "stream",
          "name": "stdout",
          "text": [
            "Original list:\n",
            "1 -> 2 -> 3 -> 4 -> None\n",
            "Reversed list:\n",
            "4 -> 3 -> 2 -> 1 -> None\n"
          ]
        }
      ]
    },
    {
      "cell_type": "code",
      "source": [
        "class ListNode:\n",
        "    def __init__(self, value=0, next=None):\n",
        "        self.value = value\n",
        "        self.next = next\n",
        "def insert_at_beginning(head, new_value):\n",
        "    new_node = ListNode(new_value)  # Create a new node with the given value\n",
        "    new_node.next = head            # Point the new node's next to the current head\n",
        "    return new_node                 # Return the new node as the new head of the list\n",
        "\n",
        "\n",
        "# Helper function to print the linked list\n",
        "def print_list(head):\n",
        "    current = head\n",
        "    while current:\n",
        "        print(current.value, end=\" -> \")\n",
        "        current = current.next\n",
        "    print(\"None\")\n",
        "\n",
        "# Create a linked list: 2 -> 3 -> 4 -> None\n",
        "head = ListNode(2, ListNode(3, ListNode(4)))\n",
        "\n",
        "print(\"Original list:\")\n",
        "print_list(head)\n",
        "\n",
        "# Insert a new element at the beginning\n",
        "head = insert_at_beginning(head, 1)\n",
        "\n",
        "print(\"List after inserting 1 at the beginning:\")\n",
        "print_list(head)\n"
      ],
      "metadata": {
        "colab": {
          "base_uri": "https://localhost:8080/"
        },
        "id": "9O84Kat5V_aY",
        "outputId": "9cba217c-c5d7-4183-a4ce-a38402001c65"
      },
      "execution_count": 4,
      "outputs": [
        {
          "output_type": "stream",
          "name": "stdout",
          "text": [
            "Original list:\n",
            "2 -> 3 -> 4 -> None\n",
            "List after inserting 1 at the beginning:\n",
            "1 -> 2 -> 3 -> 4 -> None\n"
          ]
        }
      ]
    },
    {
      "cell_type": "code",
      "source": [
        "#3. Write a function to calculate number of nodes in singly linked list.\n",
        "\n",
        "class ListNode:\n",
        "    def __init__(self, value=0, next=None):\n",
        "        self.value = value\n",
        "        self.next = next\n",
        "def count_nodes(head):\n",
        "    count = 0\n",
        "    current = head\n",
        "\n",
        "    while current is not None:\n",
        "        count += 1\n",
        "        current = current.next\n",
        "\n",
        "    return count\n",
        "# Helper function to print the linked list\n",
        "def print_list(head):\n",
        "    current = head\n",
        "    while current:\n",
        "        print(current.value, end=\" -> \")\n",
        "        current = current.next\n",
        "    print(\"None\")\n",
        "\n",
        "# Create a linked list: 1 -> 2 -> 3 -> 4 -> None\n",
        "head = ListNode(1, ListNode(2, ListNode(3, ListNode(4))))\n",
        "\n",
        "print(\"Linked list:\")\n",
        "print_list(head)\n",
        "\n",
        "# Count the number of nodes\n",
        "node_count = count_nodes(head)\n",
        "print(f\"Number of nodes: {node_count}\")\n"
      ],
      "metadata": {
        "colab": {
          "base_uri": "https://localhost:8080/"
        },
        "id": "a3VRxHrvV_Wb",
        "outputId": "adb026f2-ec7e-4bf2-a061-b79500d991b6"
      },
      "execution_count": 5,
      "outputs": [
        {
          "output_type": "stream",
          "name": "stdout",
          "text": [
            "Linked list:\n",
            "1 -> 2 -> 3 -> 4 -> None\n",
            "Number of nodes: 4\n"
          ]
        }
      ]
    },
    {
      "cell_type": "code",
      "source": [
        "#4. Write a program to traverse a doubly linked list in both forward and backward directions\n",
        "\n",
        "class ListNode:\n",
        "    def __init__(self, value=0, next=None, prev=None):\n",
        "        self.value = value\n",
        "        self.next = next\n",
        "        self.prev = prev\n",
        "def traverse_forward(head):\n",
        "    current = head\n",
        "    while current is not None:\n",
        "        print(current.value, end=\" -> \")\n",
        "        current = current.next\n",
        "    print(\"None\")\n",
        "\n",
        "def traverse_backward(tail):\n",
        "    current = tail\n",
        "    while current is not None:\n",
        "        print(current.value, end=\" -> \")\n",
        "        current = current.prev\n",
        "    print(\"None\")\n",
        "\n",
        "# Helper function to print the linked list\n",
        "def print_list(head):\n",
        "    current = head\n",
        "    while current:\n",
        "        print(current.value, end=\" -> \")\n",
        "        current = current.next\n",
        "    print(\"None\")\n",
        "\n",
        "# Create a doubly linked list: 1 <-> 2 <-> 3 <-> 4\n",
        "node1 = ListNode(1)\n",
        "node2 = ListNode(2)\n",
        "node3 = ListNode(3)\n",
        "node4 = ListNode(4)\n",
        "\n",
        "node1.next = node2\n",
        "node2.prev = node1\n",
        "node2.next = node3\n",
        "node3.prev = node2\n",
        "node3.next = node4\n",
        "node4.prev = node3\n",
        "\n",
        "head = node1\n",
        "tail = node4\n",
        "\n",
        "print(\"Traverse forward:\")\n",
        "traverse_forward(head)\n",
        "\n",
        "print(\"Traverse backward:\")\n",
        "traverse_backward(tail)\n",
        "\n"
      ],
      "metadata": {
        "colab": {
          "base_uri": "https://localhost:8080/"
        },
        "id": "5JtuWpXVV_Ti",
        "outputId": "85f7cc91-5dd0-479c-e0e1-ad0db3d48ee8"
      },
      "execution_count": 6,
      "outputs": [
        {
          "output_type": "stream",
          "name": "stdout",
          "text": [
            "Traverse forward:\n",
            "1 -> 2 -> 3 -> 4 -> None\n",
            "Traverse backward:\n",
            "4 -> 3 -> 2 -> 1 -> None\n"
          ]
        }
      ]
    },
    {
      "cell_type": "code",
      "source": [
        "#5. Write a program to delete the node after a given node in a circular linked list.\n",
        "\n",
        "class ListNode:\n",
        "    def __init__(self, value=0):\n",
        "        self.value = value\n",
        "        self.next = None\n",
        "def delete_node_after_given_node(head, given_node):\n",
        "    if head is None or given_node is None:\n",
        "        return head\n",
        "\n",
        "    # If the list contains only one node\n",
        "    if given_node.next == given_node:\n",
        "        return None\n",
        "\n",
        "    # If the node to be deleted is the head node\n",
        "    if given_node.next == head:\n",
        "        head = head.next\n",
        "\n",
        "    # Delete the node after the given node\n",
        "    given_node.next = given_node.next.next\n",
        "\n",
        "    return head\n",
        "\n",
        "# Helper function to print the circular linked list\n",
        "def print_circular_list(head):\n",
        "    if head is None:\n",
        "        print(\"List is empty\")\n",
        "        return\n",
        "\n",
        "    current = head\n",
        "    while True:\n",
        "        print(current.value, end=\" -> \")\n",
        "        current = current.next\n",
        "        if current == head:\n",
        "            break\n",
        "    print(\"... (back to head)\")\n",
        "\n",
        "# Create a circular linked list: 1 -> 2 -> 3 -> 4 -> (back to 1)\n",
        "node1 = ListNode(1)\n",
        "node2 = ListNode(2)\n",
        "node3 = ListNode(3)\n",
        "node4 = ListNode(4)\n",
        "\n",
        "node1.next = node2\n",
        "node2.next = node3\n",
        "node3.next = node4\n",
        "node4.next = node1\n",
        "\n",
        "head = node1\n",
        "\n",
        "print(\"Original list:\")\n",
        "print_circular_list(head)\n",
        "\n",
        "# Delete the node after node2 (which is node3)\n",
        "head = delete_node_after_given_node(head, node2)\n",
        "\n",
        "print(\"List after deleting the node after node2:\")\n",
        "print_circular_list(head)\n"
      ],
      "metadata": {
        "colab": {
          "base_uri": "https://localhost:8080/"
        },
        "id": "Ul4Jx8bfV_Q7",
        "outputId": "eb445b28-2f0a-4306-8dce-f463d6da7fb6"
      },
      "execution_count": 7,
      "outputs": [
        {
          "output_type": "stream",
          "name": "stdout",
          "text": [
            "Original list:\n",
            "1 -> 2 -> 3 -> 4 -> ... (back to head)\n",
            "List after deleting the node after node2:\n",
            "1 -> 2 -> 4 -> ... (back to head)\n"
          ]
        }
      ]
    },
    {
      "cell_type": "code",
      "source": [
        "#6. Write a program to implement a doubly linked list with operations like inserting a node at the beginning, end, and at a specific position.\n",
        "\n",
        "class ListNode:\n",
        "    def __init__(self, value=0):\n",
        "        self.value = value\n",
        "        self.next = None\n",
        "        self.prev = None\n",
        "class DoublyLinkedList:\n",
        "    def __init__(self):\n",
        "        self.head = None\n",
        "\n",
        "    def insert_at_beginning(self, new_value):\n",
        "        new_node = ListNode(new_value)\n",
        "        if self.head is None:\n",
        "            self.head = new_node\n",
        "        else:\n",
        "            new_node.next = self.head\n",
        "            self.head.prev = new_node\n",
        "            self.head = new_node\n",
        "\n",
        "    def insert_at_end(self, new_value):\n",
        "        new_node = ListNode(new_value)\n",
        "        if self.head is None:\n",
        "            self.head = new_node\n",
        "        else:\n",
        "            current = self.head\n",
        "            while current.next is not None:\n",
        "                current = current.next\n",
        "            current.next = new_node\n",
        "            new_node.prev = current\n",
        "\n",
        "    def insert_at_position(self, new_value, position):\n",
        "        new_node = ListNode(new_value)\n",
        "        if position == 0:\n",
        "            self.insert_at_beginning(new_value)\n",
        "            return\n",
        "        current = self.head\n",
        "        for _ in range(position - 1):\n",
        "            if current is None:\n",
        "                raise IndexError(\"Position out of bounds\")\n",
        "            current = current.next\n",
        "        if current is None:\n",
        "            raise IndexError(\"Position out of bounds\")\n",
        "        new_node.next = current.next\n",
        "        new_node.prev = current\n",
        "        if current.next is not None:\n",
        "            current.next.prev = new_node\n",
        "        current.next = new_node\n",
        "\n",
        "    def print_list(self):\n",
        "        current = self.head\n",
        "        while current is not None:\n",
        "            print(current.value, end=\" <-> \")\n",
        "            current = current.next\n",
        "        print(\"None\")\n",
        "\n",
        "# Create a doubly linked list\n",
        "dll = DoublyLinkedList()\n",
        "\n",
        "# Insert nodes at the beginning\n",
        "dll.insert_at_beginning(3)\n",
        "dll.insert_at_beginning(2)\n",
        "dll.insert_at_beginning(1)\n",
        "\n",
        "print(\"List after inserting at the beginning:\")\n",
        "dll.print_list()\n",
        "\n",
        "# Insert nodes at the end\n",
        "dll.insert_at_end(4)\n",
        "dll.insert_at_end(5)\n",
        "\n",
        "print(\"List after inserting at the end:\")\n",
        "dll.print_list()\n",
        "\n",
        "# Insert nodes at specific positions\n",
        "dll.insert_at_position(0, 0)  # Insert at the beginning\n",
        "dll.insert_at_position(6, 6)  # Insert at the end\n",
        "dll.insert_at_position(2.5, 3)  # Insert at position 3\n",
        "\n",
        "print(\"List after inserting at specific positions:\")\n",
        "dll.print_list()\n"
      ],
      "metadata": {
        "colab": {
          "base_uri": "https://localhost:8080/"
        },
        "id": "v3H-k-UuYgNL",
        "outputId": "dace53b9-0b96-4bf8-fe72-7b293b7f37e9"
      },
      "execution_count": 8,
      "outputs": [
        {
          "output_type": "stream",
          "name": "stdout",
          "text": [
            "List after inserting at the beginning:\n",
            "1 <-> 2 <-> 3 <-> None\n",
            "List after inserting at the end:\n",
            "1 <-> 2 <-> 3 <-> 4 <-> 5 <-> None\n",
            "List after inserting at specific positions:\n",
            "0 <-> 1 <-> 2 <-> 2.5 <-> 3 <-> 4 <-> 5 <-> 6 <-> None\n"
          ]
        }
      ]
    },
    {
      "cell_type": "code",
      "source": [
        "#7. Given two sorted singly linked lists, write a code to merge them into a single sorted list\n",
        "\n",
        "class ListNode:\n",
        "    def __init__(self, value=0, next=None):\n",
        "        self.value = value\n",
        "        self.next = next\n",
        "def merge_sorted_lists(l1, l2):\n",
        "    # Create a dummy node to serve as the start of the merged list\n",
        "    dummy = ListNode()\n",
        "    current = dummy\n",
        "\n",
        "    # Traverse both lists and merge them\n",
        "    while l1 is not None and l2 is not None:\n",
        "        if l1.value < l2.value:\n",
        "            current.next = l1\n",
        "            l1 = l1.next\n",
        "        else:\n",
        "            current.next = l2\n",
        "            l2 = l2.next\n",
        "        current = current.next\n",
        "\n",
        "    # If there are remaining nodes in either list, append them\n",
        "    if l1 is not None:\n",
        "        current.next = l1\n",
        "    elif l2 is not None:\n",
        "        current.next = l2\n",
        "\n",
        "    # Return the merged list, starting from the next node of the dummy\n",
        "    return dummy.next\n",
        "\n",
        "# Helper function to print the linked list\n",
        "def print_list(head):\n",
        "    current = head\n",
        "    while current:\n",
        "        print(current.value, end=\" -> \")\n",
        "        current = current.next\n",
        "    print(\"None\")\n",
        "\n",
        "# Create two sorted linked lists: 1 -> 3 -> 5 and 2 -> 4 -> 6\n",
        "l1 = ListNode(1, ListNode(3, ListNode(5)))\n",
        "l2 = ListNode(2, ListNode(4, ListNode(6)))\n",
        "\n",
        "print(\"List 1:\")\n",
        "print_list(l1)\n",
        "\n",
        "print(\"List 2:\")\n",
        "print_list(l2)\n",
        "\n",
        "# Merge the two sorted lists\n",
        "merged_head = merge_sorted_lists(l1, l2)\n",
        "\n",
        "print(\"Merged list:\")\n",
        "print_list(merged_head)\n"
      ],
      "metadata": {
        "colab": {
          "base_uri": "https://localhost:8080/"
        },
        "id": "EZ3KCm2pYgKk",
        "outputId": "510c2278-4873-4c0b-e647-0efe8bb62c3e"
      },
      "execution_count": 9,
      "outputs": [
        {
          "output_type": "stream",
          "name": "stdout",
          "text": [
            "List 1:\n",
            "1 -> 3 -> 5 -> None\n",
            "List 2:\n",
            "2 -> 4 -> 6 -> None\n",
            "Merged list:\n",
            "1 -> 2 -> 3 -> 4 -> 5 -> 6 -> None\n"
          ]
        }
      ]
    },
    {
      "cell_type": "code",
      "source": [],
      "metadata": {
        "id": "pXfYL6YwY-6L"
      },
      "execution_count": null,
      "outputs": []
    },
    {
      "cell_type": "code",
      "source": [],
      "metadata": {
        "id": "YbJVRys_Y-4u"
      },
      "execution_count": null,
      "outputs": []
    }
  ]
}
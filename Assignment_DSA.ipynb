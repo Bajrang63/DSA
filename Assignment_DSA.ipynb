{
  "nbformat": 4,
  "nbformat_minor": 0,
  "metadata": {
    "colab": {
      "provenance": []
    },
    "kernelspec": {
      "name": "python3",
      "display_name": "Python 3"
    },
    "language_info": {
      "name": "python"
    }
  },
  "cells": [
    {
      "cell_type": "code",
      "execution_count": 8,
      "metadata": {
        "colab": {
          "base_uri": "https://localhost:8080/"
        },
        "id": "2L3quPvkAb6b",
        "outputId": "d3dcd3b5-c280-4a8c-8467-1ea3e94c9c22"
      },
      "outputs": [
        {
          "output_type": "stream",
          "name": "stdout",
          "text": [
            "Doubly Linked List:\n",
            "10->20->30->None\n"
          ]
        }
      ],
      "source": [
        "# Define a doubly linked list\n",
        "\n",
        "class Node:\n",
        "  def __init__(self , data):\n",
        "    self.data = data\n",
        "    self.prev = None\n",
        "    self.next = None\n",
        "\n",
        "\n",
        "class DoublyLinkedlist:\n",
        "  def __init__(self):\n",
        "    self.head = None\n",
        "\n",
        "  def append(self ,data):\n",
        "    new_node = Node(data)\n",
        "    # if the list is empty\n",
        "    if self.head is None:\n",
        "      self.head = new_node\n",
        "      return\n",
        "    temp = self.head\n",
        "    while temp.next:\n",
        "      temp = temp.next\n",
        "    temp.next = new_node  # link to new node at the end\n",
        "    new_node.prev = temp\n",
        "\n",
        "\n",
        "  def display(self):\n",
        "    temp = self.head\n",
        "    while temp:\n",
        "      print(temp.data , end =\"->\")\n",
        "      temp = temp.next\n",
        "    print(\"None\")\n",
        "\n",
        "\n",
        "dll = DoublyLinkedlist()\n",
        "dll.append(10)\n",
        "dll.append(20)\n",
        "dll.append(30)\n",
        "\n",
        "print(\"Doubly Linked List:\")\n",
        "dll.display()\n",
        "\n",
        "\n"
      ]
    },
    {
      "cell_type": "code",
      "source": [
        "# Write a function to reverse a linked list in-place\n",
        "class Node:\n",
        "    def __init__(self, data):\n",
        "        self.data = data\n",
        "        self.next = None\n",
        "\n",
        "\n",
        "class LinkedList:\n",
        "    def __init__(self):\n",
        "        self.head = None\n",
        "\n",
        "\n",
        "    def append(self, data):\n",
        "        new_node = Node(data)\n",
        "        if self.head is None:  # If the list is empty\n",
        "            self.head = new_node\n",
        "            return\n",
        "        temp = self.head\n",
        "        while temp.next:  # Traverse to the end of the list\n",
        "            temp = temp.next\n",
        "        temp.next = new_node\n",
        "\n",
        "\n",
        "    def display(self):\n",
        "        temp = self.head\n",
        "        while temp:\n",
        "            print(temp.data, end=\" -> \")\n",
        "            temp = temp.next\n",
        "        print(\"None\")\n",
        "\n",
        "    def reverse_in_place(self):\n",
        "        prev = None\n",
        "        current = self.head\n",
        "        while current:\n",
        "            next_node = current.next\n",
        "            current.next = prev\n",
        "            prev = current\n",
        "            current = next_node\n",
        "        self.head = prev\n",
        "\n",
        "ll = LinkedList()\n",
        "ll.append(11)\n",
        "ll.append(12)\n",
        "ll.append(13)\n",
        "ll.append(14)\n",
        "print(\"linked list ::\")\n",
        "ll.display()\n",
        "print(\"reverse linked list ::\")\n",
        "ll.reverse_in_place()\n",
        "ll.display()"
      ],
      "metadata": {
        "colab": {
          "base_uri": "https://localhost:8080/"
        },
        "id": "8F21dgslDxYm",
        "outputId": "db757506-a587-4bc3-8628-ad48eab49662"
      },
      "execution_count": 9,
      "outputs": [
        {
          "output_type": "stream",
          "name": "stdout",
          "text": [
            "linked list ::\n",
            "11 -> 12 -> 13 -> 14 -> None\n",
            "reverse linked list ::\n",
            "14 -> 13 -> 12 -> 11 -> None\n"
          ]
        }
      ]
    },
    {
      "cell_type": "code",
      "source": [
        "#Detect cycle in a linked list\n",
        "\n",
        "class Node:\n",
        "    def __init__(self, data):\n",
        "        self.data = data\n",
        "        self.next = None\n",
        "\n",
        "class LinkedList:\n",
        "    def __init__(self):\n",
        "        self.head = None\n",
        "\n",
        "    def append(self, data):\n",
        "        new_node = Node(data)\n",
        "        if not self.head:\n",
        "            self.head = new_node\n",
        "        else:\n",
        "            temp = self.head\n",
        "            while temp.next:\n",
        "                temp = temp.next\n",
        "            temp.next = new_node\n",
        "\n",
        "    def detect_cycle(self):\n",
        "        slow = self.head\n",
        "        fast = self.head\n",
        "\n",
        "        while fast and fast.next:  # Ensure fast and fast.next are valid\n",
        "            slow = slow.next       # Move slow pointer by one step\n",
        "            fast = fast.next.next  # Move fast pointer by two steps\n",
        "\n",
        "            if slow == fast:       # If they meet, a cycle exists\n",
        "                return True\n",
        "\n",
        "        return False  # No cycle found\n",
        "\n",
        "\n",
        "# Create a linked list\n",
        "ll = LinkedList()\n",
        "ll.append(1)\n",
        "ll.append(2)\n",
        "ll.append(3)\n",
        "ll.append(4)\n",
        "\n",
        "# Introduce a cycle manually\n",
        "ll.head.next.next.next.next = ll.head.next  # 4 -> 2 creates a cycle\n",
        "\n",
        "if ll.detect_cycle():\n",
        "    print(\"Cycle detected in the linked list.\")\n",
        "else:\n",
        "    print(\"No cycle detected.\")\n"
      ],
      "metadata": {
        "colab": {
          "base_uri": "https://localhost:8080/"
        },
        "id": "oELaY9R6AmBP",
        "outputId": "56ffa24a-852a-47db-8bd8-aff064877590"
      },
      "execution_count": 10,
      "outputs": [
        {
          "output_type": "stream",
          "name": "stdout",
          "text": [
            "Cycle detected in the linked list.\n"
          ]
        }
      ]
    },
    {
      "cell_type": "code",
      "source": [
        "# Merge two sorted linked list into one\n",
        "\n",
        "class Node:\n",
        "    def __init__(self, data):\n",
        "        self.data = data\n",
        "        self.next = None\n",
        "\n",
        "class LinkedList:\n",
        "    def __init__(self):\n",
        "        self.head = None\n",
        "\n",
        "    def append(self, data):\n",
        "        new_node = Node(data)\n",
        "        if not self.head:\n",
        "            self.head = new_node\n",
        "        else:\n",
        "            temp = self.head\n",
        "            while temp.next:\n",
        "                temp = temp.next\n",
        "            temp.next = new_node\n",
        "\n",
        "    def display(self):\n",
        "        temp = self.head\n",
        "        while temp:\n",
        "            print(temp.data, end=\" -> \")\n",
        "            temp = temp.next\n",
        "        print(\"None\")\n",
        "\n",
        "def merge_sorted_lists(list1, list2):\n",
        "    dummy = Node(-1)  # Dummy node to simplify the process\n",
        "    tail = dummy\n",
        "\n",
        "    l1 = list1.head\n",
        "    l2 = list2.head\n",
        "\n",
        "    while l1 and l2:\n",
        "        if l1.data < l2.data:\n",
        "            tail.next = l1\n",
        "            l1 = l1.next\n",
        "        else:\n",
        "            tail.next = l2\n",
        "            l2 = l2.next\n",
        "        tail = tail.next\n",
        "\n",
        "    # Attach the remaining nodes, if any\n",
        "    if l1:\n",
        "        tail.next = l1\n",
        "    if l2:\n",
        "        tail.next = l2\n",
        "\n",
        "    # The merged linked list starts from dummy.next\n",
        "    merged_list = LinkedList()\n",
        "    merged_list.head = dummy.next\n",
        "    return merged_list\n",
        "\n",
        "\n",
        "list1 = LinkedList()\n",
        "list1.append(1)\n",
        "list1.append(3)\n",
        "list1.append(5)\n",
        "\n",
        "list2 = LinkedList()\n",
        "list2.append(2)\n",
        "list2.append(4)\n",
        "list2.append(6)\n",
        "\n",
        "print(\"List 1:\")\n",
        "list1.display()\n",
        "\n",
        "print(\"List 2:\")\n",
        "list2.display()\n",
        "\n",
        "merged_list = merge_sorted_lists(list1, list2)\n",
        "\n",
        "print(\"Merged Sorted List:\")\n",
        "merged_list.display()"
      ],
      "metadata": {
        "colab": {
          "base_uri": "https://localhost:8080/"
        },
        "id": "sJEe68aqIpUt",
        "outputId": "a97bd91b-1e93-4069-942c-225a76a6c947"
      },
      "execution_count": 11,
      "outputs": [
        {
          "output_type": "stream",
          "name": "stdout",
          "text": [
            "List 1:\n",
            "1 -> 3 -> 5 -> None\n",
            "List 2:\n",
            "2 -> 4 -> 6 -> None\n",
            "Merged Sorted List:\n",
            "1 -> 2 -> 3 -> 4 -> 5 -> 6 -> None\n"
          ]
        }
      ]
    },
    {
      "cell_type": "code",
      "source": [
        "#Write a function to remove nth node from the end in a linked list\n",
        "\n",
        "class Node:\n",
        "    def __init__(self, data):\n",
        "        self.data = data\n",
        "        self.next = None\n",
        "\n",
        "class LinkedList:\n",
        "    def __init__(self):\n",
        "        self.head = None\n",
        "\n",
        "    def append(self, data):\n",
        "        new_node = Node(data)\n",
        "        if not self.head:\n",
        "            self.head = new_node\n",
        "        else:\n",
        "            temp = self.head\n",
        "            while temp.next:\n",
        "                temp = temp.next\n",
        "            temp.next = new_node\n",
        "\n",
        "    def display(self):\n",
        "        temp = self.head\n",
        "        while temp:\n",
        "            print(temp.data, end=\" -> \")\n",
        "            temp = temp.next\n",
        "        print(\"None\")\n",
        "\n",
        "    def remove_nth_from_end(self, n):\n",
        "        dummy = Node(0)\n",
        "        dummy.next = self.head\n",
        "        slow = dummy\n",
        "        fast = dummy\n",
        "\n",
        "        # Move the fast pointer n+1 steps ahead\n",
        "        for _ in range(n + 1):\n",
        "            if fast:\n",
        "                fast = fast.next\n",
        "            else:\n",
        "                # If n is greater than the length of the list, do nothing\n",
        "                return\n",
        "\n",
        "        # Move both pointers until fast reaches the end\n",
        "        while fast:\n",
        "            slow = slow.next\n",
        "            fast = fast.next\n",
        "\n",
        "        # Remove the nth node\n",
        "        slow.next = slow.next.next\n",
        "\n",
        "    # Update the head in case the head was removed\n",
        "        self.head = dummy.next\n",
        "ll = LinkedList()\n",
        "ll.append(10)\n",
        "ll.append(20)\n",
        "ll.append(30)\n",
        "ll.append(40)\n",
        "ll.append(50)\n",
        "\n",
        "print(\"Original list:\")\n",
        "ll.display()\n",
        "\n",
        "ll.remove_nth_from_end(2)  # Remove the 2nd node from the end\n",
        "\n",
        "print(\"List after removing the 2nd node from the end:\")\n",
        "ll.display()"
      ],
      "metadata": {
        "colab": {
          "base_uri": "https://localhost:8080/"
        },
        "id": "X36cLpgqNcMV",
        "outputId": "d37bc2f6-cbf2-44ff-9937-df33db1bf2d0"
      },
      "execution_count": 12,
      "outputs": [
        {
          "output_type": "stream",
          "name": "stdout",
          "text": [
            "Original list:\n",
            "10 -> 20 -> 30 -> 40 -> 50 -> None\n",
            "List after removing the 2nd node from the end:\n",
            "10 -> 20 -> 30 -> 50 -> None\n"
          ]
        }
      ]
    },
    {
      "cell_type": "code",
      "source": [],
      "metadata": {
        "id": "Vm-i7P89OJLp"
      },
      "execution_count": 12,
      "outputs": []
    },
    {
      "cell_type": "code",
      "source": [
        "#Remove duplicates from a sorted linked list\n",
        "\n",
        "class ListNode:\n",
        "    def __init__(self, val=0, next=None):\n",
        "        self.val = val\n",
        "        self.next = next\n",
        "\n",
        "def remove_duplicates(head):\n",
        "    current = head\n",
        "    while current and current.next:\n",
        "        if current.val == current.next.val:\n",
        "            current.next = current.next.next  # Skip the duplicate\n",
        "        else:\n",
        "            current = current.next  # Move to the next node\n",
        "    return head\n",
        "\n",
        "# Example usage\n",
        "def print_list(head):\n",
        "    while head:\n",
        "        print(head.val, end=\" -> \")\n",
        "        head = head.next\n",
        "    print(\"None\")\n",
        "\n",
        "# Create a sorted linked list: 1 -> 1 -> 2 -> 3 -> 3\n",
        "head = ListNode(1, ListNode(1, ListNode(2, ListNode(3, ListNode(3)))))\n",
        "\n",
        "print(\"Original List:\")\n",
        "print_list(head)\n",
        "\n",
        "head = remove_duplicates(head)\n",
        "\n",
        "print(\"After Removing Duplicates:\")\n",
        "print_list(head)"
      ],
      "metadata": {
        "colab": {
          "base_uri": "https://localhost:8080/"
        },
        "id": "zvcSjxgwNryW",
        "outputId": "b1a919e5-5ada-420b-b8ff-97524f367744"
      },
      "execution_count": 13,
      "outputs": [
        {
          "output_type": "stream",
          "name": "stdout",
          "text": [
            "Original List:\n",
            "1 -> 1 -> 2 -> 3 -> 3 -> None\n",
            "After Removing Duplicates:\n",
            "1 -> 2 -> 3 -> None\n"
          ]
        }
      ]
    },
    {
      "cell_type": "code",
      "source": [
        "#find the intersection of the two linked list\n",
        "\n",
        "class ListNode:\n",
        "    def __init__(self, val=0, next=None):\n",
        "        self.val = val\n",
        "        self.next = next\n",
        "\n",
        "def get_intersection_node(headA, headB):\n",
        "    # Initialize two pointers for the two lists\n",
        "    pointerA, pointerB = headA, headB\n",
        "\n",
        "    # Traverse the lists; if a pointer reaches the end, start from the beginning of the other list\n",
        "    while pointerA != pointerB:\n",
        "        pointerA = pointerA.next if pointerA else headB\n",
        "        pointerB = pointerB.next if pointerB else headA\n",
        "\n",
        "    # When the pointers meet, it's the intersection point (or None if no intersection exists)\n",
        "    return pointerA\n",
        "\n",
        "\n",
        "def print_list(head):\n",
        "    while head:\n",
        "        print(head.val, end=\" -> \")\n",
        "        head = head.next\n",
        "    print(\"None\")\n",
        "\n",
        "# Create two linked lists with intersection: 4 -> 1 -> [8 -> 4 -> 5]\n",
        "#                                           5 -> 0 -> 1 -> [8 -> 4 -> 5]\n",
        "common = ListNode(8, ListNode(4, ListNode(5)))\n",
        "headA = ListNode(4, ListNode(1, common))\n",
        "headB = ListNode(5, ListNode(0, ListNode(1, common)))\n",
        "\n",
        "print(\"List A:\")\n",
        "print_list(headA)\n",
        "print(\"List B:\")\n",
        "print_list(headB)\n",
        "\n",
        "intersection = get_intersection_node(headA, headB)\n",
        "\n",
        "print(\"Intersection Node:\", intersection.val if intersection else \"None\")"
      ],
      "metadata": {
        "colab": {
          "base_uri": "https://localhost:8080/"
        },
        "id": "KdbPbtzAOL0k",
        "outputId": "58fb952f-cb88-4f18-e280-420fc69b9e78"
      },
      "execution_count": 14,
      "outputs": [
        {
          "output_type": "stream",
          "name": "stdout",
          "text": [
            "List A:\n",
            "4 -> 1 -> 8 -> 4 -> 5 -> None\n",
            "List B:\n",
            "5 -> 0 -> 1 -> 8 -> 4 -> 5 -> None\n",
            "Intersection Node: 8\n"
          ]
        }
      ]
    },
    {
      "cell_type": "code",
      "source": [
        "# Rotate a linked list by k positions to the right\n",
        "\n",
        "class ListNode:\n",
        "    def __init__(self, val=0, next=None):\n",
        "        self.val = val\n",
        "        self.next = next\n",
        "\n",
        "def rotate_right(head, k):\n",
        "    if not head or not head.next or k == 0:\n",
        "        return head\n",
        "\n",
        "    # Step 1: Compute the length of the linked list\n",
        "    length = 1\n",
        "    current = head\n",
        "    while current.next:\n",
        "        current = current.next\n",
        "        length += 1\n",
        "\n",
        "    # Step 2: Make the list circular\n",
        "    current.next = head  # Connect the tail to the head\n",
        "\n",
        "    # Step 3: Find the new head and tail\n",
        "    k = k % length  # Handle cases where k > length\n",
        "    steps_to_new_head = length - k\n",
        "    new_tail = head\n",
        "\n",
        "    for _ in range(steps_to_new_head - 1):\n",
        "        new_tail = new_tail.next\n",
        "\n",
        "    new_head = new_tail.next\n",
        "    new_tail.next = None  # Break the circular link\n",
        "\n",
        "    return new_head\n",
        "\n",
        "def print_list(head):\n",
        "    while head:\n",
        "        print(head.val, end=\" -> \")\n",
        "        head = head.next\n",
        "    print(\"None\")\n",
        "\n",
        "# Create a linked list: 1 -> 2 -> 3 -> 4 -> 5\n",
        "head = ListNode(1, ListNode(2, ListNode(3, ListNode(4, ListNode(5)))))\n",
        "\n",
        "print(\"Original List:\")\n",
        "print_list(head)\n",
        "\n",
        "k = 2\n",
        "head = rotate_right(head, k)\n",
        "\n",
        "print(f\"List after rotating by {k} positions to the right:\")\n",
        "print_list(head)"
      ],
      "metadata": {
        "colab": {
          "base_uri": "https://localhost:8080/"
        },
        "id": "zk8HbkCZQIrk",
        "outputId": "4dcb58b6-f08d-4b74-85bd-d5061b9a737d"
      },
      "execution_count": 15,
      "outputs": [
        {
          "output_type": "stream",
          "name": "stdout",
          "text": [
            "Original List:\n",
            "1 -> 2 -> 3 -> 4 -> 5 -> None\n",
            "List after rotating by 2 positions to the right:\n",
            "4 -> 5 -> 1 -> 2 -> 3 -> None\n"
          ]
        }
      ]
    },
    {
      "cell_type": "code",
      "source": [
        "class ListNode:\n",
        "    def __init__(self, val=0, next=None):\n",
        "        self.val = val\n",
        "        self.next = next\n",
        "\n",
        "def add_two_numbers(l1, l2):\n",
        "    dummy_head = ListNode(0)  # Placeholder node to simplify the code\n",
        "    current = dummy_head\n",
        "    carry = 0\n",
        "\n",
        "    while l1 or l2 or carry:\n",
        "        # Extract the values from the current nodes, or use 0 if the node is None\n",
        "        val1 = l1.val if l1 else 0\n",
        "        val2 = l2.val if l2 else 0\n",
        "\n",
        "        # Calculate the sum and the carry\n",
        "        total = val1 + val2 + carry\n",
        "        carry = total // 10  # Update the carry\n",
        "        current.next = ListNode(total % 10)  # Create a new node with the digit part\n",
        "\n",
        "        # Move to the next nodes\n",
        "        current = current.next\n",
        "        if l1: l1 = l1.next\n",
        "        if l2: l2 = l2.next\n",
        "\n",
        "    return dummy_head.next  # Return the result list, skipping the dummy head\n",
        "\n",
        "\n",
        "def print_list(head):\n",
        "    while head:\n",
        "        print(head.val, end=\" -> \")\n",
        "        head = head.next\n",
        "    print(\"None\")\n",
        "\n",
        "# Create two linked lists: (2 -> 4 -> 3) and (5 -> 6 -> 4)\n",
        "l1 = ListNode(2, ListNode(4, ListNode(3)))\n",
        "l2 = ListNode(5, ListNode(6, ListNode(4)))\n",
        "\n",
        "print(\"List 1:\")\n",
        "print_list(l1)\n",
        "print(\"List 2:\")\n",
        "print_list(l2)\n",
        "\n",
        "result = add_two_numbers(l1, l2)\n",
        "print(\"Sum List:\")\n",
        "print_list(result)"
      ],
      "metadata": {
        "colab": {
          "base_uri": "https://localhost:8080/"
        },
        "id": "YSJkgvzDQIqc",
        "outputId": "de948566-a340-42fa-b957-675befee1dda"
      },
      "execution_count": 16,
      "outputs": [
        {
          "output_type": "stream",
          "name": "stdout",
          "text": [
            "List 1:\n",
            "2 -> 4 -> 3 -> None\n",
            "List 2:\n",
            "5 -> 6 -> 4 -> None\n",
            "Sum List:\n",
            "7 -> 0 -> 8 -> None\n"
          ]
        }
      ]
    },
    {
      "cell_type": "code",
      "source": [
        "#Clone a Linked List with next and Random Pointer\n",
        "\n",
        "class Node:\n",
        "    def __init__(self, val, next=None, random=None):\n",
        "        self.val = val\n",
        "        self.next = next\n",
        "        self.random = random\n",
        "\n",
        "def clone_linked_list(head):\n",
        "    if not head:\n",
        "        return None\n",
        "\n",
        "    # Step 1: Create copy nodes and insert them next to their originals\n",
        "    current = head\n",
        "    while current:\n",
        "        copy_node = Node(current.val)\n",
        "        copy_node.next = current.next\n",
        "        current.next = copy_node\n",
        "        current = copy_node.next\n",
        "\n",
        "    # Step 2: Assign the random pointers to the copied nodes\n",
        "    current = head\n",
        "    while current:\n",
        "        if current.random:\n",
        "            current.next.random = current.random.next\n",
        "        current = current.next.next\n",
        "\n",
        "    # Step 3: Separate the cloned list from the original list\n",
        "    original = head\n",
        "    clone = head.next\n",
        "    clone_head = clone\n",
        "\n",
        "    while original:\n",
        "        original.next = original.next.next\n",
        "        clone.next = clone.next.next if clone.next else None\n",
        "        original = original.next\n",
        "        clone = clone.next\n",
        "\n",
        "    return clone_head\n",
        "\n",
        "# Example usage\n",
        "def print_list(head):\n",
        "    while head:\n",
        "        random_val = head.random.val if head.random else None\n",
        "        print(f\"Value: {head.val}, Random: {random_val}\")\n",
        "        head = head.next\n",
        "\n",
        "# Create the original list: 1 -> 2 -> 3, with random pointers\n",
        "node3 = Node(3)\n",
        "node2 = Node(2, node3)\n",
        "node1 = Node(1, node2)\n",
        "node1.random = node3\n",
        "node2.random = node1\n",
        "node3.random = node3\n",
        "\n",
        "print(\"Original List:\")\n",
        "print_list(node1)\n",
        "\n",
        "cloned_head = clone_linked_list(node1)\n",
        "\n",
        "print(\"\\nCloned List:\")\n",
        "print_list(cloned_head)\n"
      ],
      "metadata": {
        "colab": {
          "base_uri": "https://localhost:8080/"
        },
        "id": "vtVj02olQIkF",
        "outputId": "2879ea73-7488-4cce-9428-2702379c9031"
      },
      "execution_count": 17,
      "outputs": [
        {
          "output_type": "stream",
          "name": "stdout",
          "text": [
            "Original List:\n",
            "Value: 1, Random: 3\n",
            "Value: 2, Random: 1\n",
            "Value: 3, Random: 3\n",
            "\n",
            "Cloned List:\n",
            "Value: 1, Random: 3\n",
            "Value: 2, Random: 1\n",
            "Value: 3, Random: 3\n"
          ]
        }
      ]
    },
    {
      "cell_type": "code",
      "source": [],
      "metadata": {
        "id": "hx980oqATQuT"
      },
      "execution_count": 17,
      "outputs": []
    }
  ]
}
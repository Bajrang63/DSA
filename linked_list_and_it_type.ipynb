{
  "nbformat": 4,
  "nbformat_minor": 0,
  "metadata": {
    "colab": {
      "provenance": []
    },
    "kernelspec": {
      "name": "python3",
      "display_name": "Python 3"
    },
    "language_info": {
      "name": "python"
    }
  },
  "cells": [
    {
      "cell_type": "markdown",
      "source": [
        "What is Linked List in Python\n",
        "A linked list is a type of linear data structure similar to arrays. It is a collection of nodes that are linked with each other.\n",
        "A node contains two things first is data and second is a link that connects it with another node."
      ],
      "metadata": {
        "id": "waPMy_lXPR4J"
      }
    },
    {
      "cell_type": "markdown",
      "source": [
        "## Creating a linked list in Python\n",
        "#Creating a Node Class\n",
        "We have created a Node class in which we have defined a __init__ function to initialize the node with the data passed as an argument\n",
        "and a reference with None because if we have only one node then there is nothing in its reference."
      ],
      "metadata": {
        "id": "zQS1R-3kP5j0"
      }
    },
    {
      "cell_type": "code",
      "source": [
        "class Node:\n",
        "\tdef __init__(self, data):\n",
        "\t\tself.data = data\n",
        "\t\tself.next = None\n",
        "\n"
      ],
      "metadata": {
        "id": "cM4EniwZPWvB"
      },
      "execution_count": null,
      "outputs": []
    },
    {
      "cell_type": "markdown",
      "source": [
        "#Insertion in Linked List\n",
        "Insertion at Beginning in Linked List\n",
        "This method inserts the node at the beginning of the linked list. In this method, we create a new_node with the given data and check if the head is an empty node or not if the head is empty then we make the new_node as head and return else we insert the head at the next new_node and make the head equal to new_node."
      ],
      "metadata": {
        "id": "kCjQVjm4QODE"
      }
    },
    {
      "cell_type": "code",
      "source": [
        "# Create a Node class to create a node\n",
        "class Node:\n",
        "\tdef __init__(self, data):\n",
        "\t\tself.data = data\n",
        "\t\tself.next = None\n",
        "\n",
        "# Create a LinkedList class\n",
        "\n",
        "\n",
        "class LinkedList:\n",
        "\tdef __init__(self):\n",
        "\t\tself.head = None\n",
        "\n",
        "\t# Method to add a node at begin of LL\n",
        "\tdef insertAtBegin(self, data):\n",
        "\t\tnew_node = Node(data)\n",
        "\t\tif self.head is None:\n",
        "\t\t\tself.head = new_node\n",
        "\t\t\treturn\n",
        "\t\telse:\n",
        "\t\t\tnew_node.next = self.head\n",
        "\t\t\tself.head = new_node\n",
        "\n",
        "\t# Method to add a node at any index\n",
        "\t# Indexing starts from 0.\n",
        "\tdef insertAtIndex(self, data, index):\n",
        "\t\tnew_node = Node(data)\n",
        "\t\tcurrent_node = self.head\n",
        "\t\tposition = 0\n",
        "\t\tif position == index:\n",
        "\t\t\tself.insertAtBegin(data)\n",
        "\t\telse:\n",
        "\t\t\twhile(current_node != None and position+1 != index):\n",
        "\t\t\t\tposition = position+1\n",
        "\t\t\t\tcurrent_node = current_node.next\n",
        "\n",
        "\t\t\tif current_node != None:\n",
        "\t\t\t\tnew_node.next = current_node.next\n",
        "\t\t\t\tcurrent_node.next = new_node\n",
        "\t\t\telse:\n",
        "\t\t\t\tprint(\"Index not present\")\n",
        "\n",
        "\t# Method to add a node at the end of LL\n",
        "\n",
        "\tdef insertAtEnd(self, data):\n",
        "\t\tnew_node = Node(data)\n",
        "\t\tif self.head is None:\n",
        "\t\t\tself.head = new_node\n",
        "\t\t\treturn\n",
        "\n",
        "\t\tcurrent_node = self.head\n",
        "\t\twhile(current_node.next):\n",
        "\t\t\tcurrent_node = current_node.next\n",
        "\n",
        "\t\tcurrent_node.next = new_node\n",
        "\n",
        "\t# Update node of a linked list\n",
        "\t\t# at given position\n",
        "\tdef updateNode(self, val, index):\n",
        "\t\tcurrent_node = self.head\n",
        "\t\tposition = 0\n",
        "\t\tif position == index:\n",
        "\t\t\tcurrent_node.data = val\n",
        "\t\telse:\n",
        "\t\t\twhile(current_node != None and position != index):\n",
        "\t\t\t\tposition = position+1\n",
        "\t\t\t\tcurrent_node = current_node.next\n",
        "\n",
        "\t\t\tif current_node != None:\n",
        "\t\t\t\tcurrent_node.data = val\n",
        "\t\t\telse:\n",
        "\t\t\t\tprint(\"Index not present\")\n",
        "\n",
        "\t# Method to remove first node of linked list\n",
        "\n",
        "\tdef remove_first_node(self):\n",
        "\t\tif(self.head == None):\n",
        "\t\t\treturn\n",
        "\n",
        "\t\tself.head = self.head.next\n",
        "\n",
        "\t# Method to remove last node of linked list\n",
        "\tdef remove_last_node(self):\n",
        "\n",
        "\t\tif self.head is None:\n",
        "\t\t\treturn\n",
        "\n",
        "\t\tcurrent_node = self.head\n",
        "\t\twhile(current_node.next.next):\n",
        "\t\t\tcurrent_node = current_node.next\n",
        "\n",
        "\t\tcurrent_node.next = None\n",
        "\n",
        "\t# Method to remove at given index\n",
        "\tdef remove_at_index(self, index):\n",
        "\t\tif self.head == None:\n",
        "\t\t\treturn\n",
        "\n",
        "\t\tcurrent_node = self.head\n",
        "\t\tposition = 0\n",
        "\t\tif position == index:\n",
        "\t\t\tself.remove_first_node()\n",
        "\t\telse:\n",
        "\t\t\twhile(current_node != None and position+1 != index):\n",
        "\t\t\t\tposition = position+1\n",
        "\t\t\t\tcurrent_node = current_node.next\n",
        "\n",
        "\t\t\tif current_node != None:\n",
        "\t\t\t\tcurrent_node.next = current_node.next.next\n",
        "\t\t\telse:\n",
        "\t\t\t\tprint(\"Index not present\")\n",
        "\n",
        "\t# Method to remove a node from linked list\n",
        "\tdef remove_node(self, data):\n",
        "\t\tcurrent_node = self.head\n",
        "\n",
        "\t\tif current_node.data == data:\n",
        "\t\t\tself.remove_first_node()\n",
        "\t\t\treturn\n",
        "\n",
        "\t\twhile(current_node != None and current_node.next.data != data):\n",
        "\t\t\tcurrent_node = current_node.next\n",
        "\n",
        "\t\tif current_node == None:\n",
        "\t\t\treturn\n",
        "\t\telse:\n",
        "\t\t\tcurrent_node.next = current_node.next.next\n",
        "\n",
        "\t# Print the size of linked list\n",
        "\tdef sizeOfLL(self):\n",
        "\t\tsize = 0\n",
        "\t\tif(self.head):\n",
        "\t\t\tcurrent_node = self.head\n",
        "\t\t\twhile(current_node):\n",
        "\t\t\t\tsize = size+1\n",
        "\t\t\t\tcurrent_node = current_node.next\n",
        "\t\t\treturn size\n",
        "\t\telse:\n",
        "\t\t\treturn 0\n",
        "\n",
        "\t# print method for the linked list\n",
        "\tdef printLL(self):\n",
        "\t\tcurrent_node = self.head\n",
        "\t\twhile(current_node):\n",
        "\t\t\tprint(current_node.data)\n",
        "\t\t\tcurrent_node = current_node.next\n",
        "\n",
        "\n",
        "# create a new linked list\n",
        "llist = LinkedList()\n",
        "\n",
        "# add nodes to the linked list\n",
        "llist.insertAtEnd('a')\n",
        "llist.insertAtEnd('b')\n",
        "llist.insertAtBegin('c')\n",
        "llist.insertAtEnd('d')\n",
        "llist.insertAtIndex('g', 2)\n",
        "\n",
        "# print the linked list\n",
        "print(\"Node Data\")\n",
        "llist.printLL()\n",
        "\n",
        "# remove a nodes from the linked list\n",
        "print(\"\\nRemove First Node\")\n",
        "llist.remove_first_node()\n",
        "print(\"Remove Last Node\")\n",
        "llist.remove_last_node()\n",
        "print(\"Remove Node at Index 1\")\n",
        "llist.remove_at_index(1)\n",
        "\n",
        "\n",
        "# print the linked list again\n",
        "print(\"\\nLinked list after removing a node:\")\n",
        "llist.printLL()\n",
        "\n",
        "print(\"\\nUpdate node Value\")\n",
        "llist.updateNode('z', 0)\n",
        "llist.printLL()\n",
        "\n",
        "print(\"\\nSize of linked list :\", end=\" \")\n",
        "print(llist.sizeOfLL())\n"
      ],
      "metadata": {
        "colab": {
          "base_uri": "https://localhost:8080/"
        },
        "id": "VqdMTkcrPcGZ",
        "outputId": "003f9542-8e18-41b3-aef7-e884a1cb7bab"
      },
      "execution_count": null,
      "outputs": [
        {
          "output_type": "stream",
          "name": "stdout",
          "text": [
            "Node Data\n",
            "c\n",
            "a\n",
            "g\n",
            "b\n",
            "d\n",
            "\n",
            "Remove First Node\n",
            "Remove Last Node\n",
            "Remove Node at Index 1\n",
            "\n",
            "Linked list after removing a node:\n",
            "a\n",
            "b\n",
            "\n",
            "Update node Value\n",
            "z\n",
            "b\n",
            "\n",
            "Size of linked list : 2\n"
          ]
        }
      ]
    },
    {
      "cell_type": "code",
      "source": [
        "\n",
        "\n",
        "class LinkedList:\n",
        "\tdef __init__(self):\n",
        "\t\tself.head = None\n",
        "\n",
        "\t# Method to add a node at begin of LL\n",
        "\tdef insertAtBegin(self, data):\n",
        "\t\tnew_node = Node(data)\n",
        "\t\tif self.head is None:\n",
        "\t\t\tself.head = new_node\n",
        "\t\t\treturn\n",
        "\t\telse:\n",
        "\t\t\tnew_node.next = self.head\n",
        "\t\t\tself.head = new_node\n",
        "\n",
        "\n",
        "# create a new linked list\n",
        "llist = LinkedList()\n",
        "\n",
        "# add nodes to the linked list\n",
        "llist.insertAtBegin('a')\n",
        "llist.insertAtBegin('b')\n",
        "print(\"Linked list create successfully : \")"
      ],
      "metadata": {
        "colab": {
          "base_uri": "https://localhost:8080/"
        },
        "id": "qj9CgaxoQ-3c",
        "outputId": "4f5d720a-1d22-48a8-c2d7-c47e4fad2607"
      },
      "execution_count": null,
      "outputs": [
        {
          "output_type": "stream",
          "name": "stdout",
          "text": [
            "Linked list create successfully : \n"
          ]
        }
      ]
    },
    {
      "cell_type": "markdown",
      "source": [
        " Singly Linked List\n",
        "It is the simplest type of linked list in which every node contains some data and a pointer to the next node of the same data type."
      ],
      "metadata": {
        "id": "tm5YlJiTci6X"
      }
    },
    {
      "cell_type": "code",
      "source": [
        "# structure of Node\n",
        "class Node:\n",
        "\tdef __init__(self, data):\n",
        "\t\tself.data = data\n",
        "\t\tself.next = None\n",
        "\n",
        "\n",
        "class LinkedList:\n",
        "\tdef __init__(self):\n",
        "\t\tself.head = None\n",
        "\t\tself.last_node = None\n",
        "\n",
        "\t# function to add elements to linked list\n",
        "\tdef append(self, data):\n",
        "\t\t# if linked list is empty then last_node will be none so in if condition head will be created\n",
        "\t\tif self.last_node is None:\n",
        "\t\t\tself.head = Node(data)\n",
        "\t\t\tself.last_node = self.head\n",
        "\t\t# adding node to the tail of linked list\n",
        "\t\telse:\n",
        "\t\t\tself.last_node.next = Node(data)\n",
        "\t\t\tself.last_node = self.last_node.next\n",
        "\n",
        "# function to print the content of linked list\n",
        "\tdef display(self):\n",
        "\t\tcurrent = self.head\n",
        "\t# traversing the linked list\n",
        "\t\twhile current is not None:\n",
        "\t\t# at each node printing its data\n",
        "\t\t\tprint(current.data, end=' ')\n",
        "\t\t# giving current next node\n",
        "\t\t\tcurrent = current.next\n",
        "\t\tprint()\n",
        "\n",
        "# Driver code\n",
        "if __name__ == '__main__':\n",
        "\tL = LinkedList()\n",
        "\t# adding elements to the linked list\n",
        "\tL.append(1)\n",
        "\tL.append(2)\n",
        "\tL.append(3)\n",
        "\t# displaying elements of linked list\n",
        "\tL.display()\n"
      ],
      "metadata": {
        "colab": {
          "base_uri": "https://localhost:8080/"
        },
        "id": "Jkkp_p48SPXp",
        "outputId": "d49fa065-57fb-494b-e070-4fdf3beec4c5"
      },
      "execution_count": null,
      "outputs": [
        {
          "output_type": "stream",
          "name": "stdout",
          "text": [
            "1 2 3 \n"
          ]
        }
      ]
    },
    {
      "cell_type": "markdown",
      "source": [
        "A doubly linked list or a two-way linked list is a more complex type of linked list that contains a pointer to the next as well as the previous node in sequence."
      ],
      "metadata": {
        "id": "d1iZD1wEcWbl"
      }
    },
    {
      "cell_type": "code",
      "source": [
        "# Python3 program to illustrate\n",
        "# creation and traversal of\n",
        "# Doubly Linked List\n",
        "\n",
        "# structure of Node\n",
        "class Node:\n",
        "\tdef __init__(self, data):\n",
        "\t\tself.previous = None\n",
        "\t\tself.data = data\n",
        "\t\tself.next = None\n",
        "\n",
        "\n",
        "class DoublyLinkedList:\n",
        "\tdef __init__(self):\n",
        "\t\tself.head = None\n",
        "\t\tself.start_node = None\n",
        "\t\tself.last_node = None\n",
        "\n",
        "\t# function to add elements to doubly linked list\n",
        "\tdef append(self, data):\n",
        "\t\t# is doubly linked list is empty then last_node will be none so in if condition head will be created\n",
        "\t\tif self.last_node is None:\n",
        "\t\t\tself.head = Node(data)\n",
        "\t\t\tself.last_node = self.head\n",
        "\t\t# adding node to the tail of doubly linked list\n",
        "\t\telse:\n",
        "\t\t\tnew_node = Node(data)\n",
        "\t\t\tself.last_node.next = new_node\n",
        "\t\t\tnew_node.previous = self.last_node\n",
        "\t\t\tnew_node.next = None\n",
        "\t\t\tself.last_node = new_node\n",
        "\n",
        "\t# function to printing and traversing the content of doubly linked list from left to right and right to left\n",
        "\tdef display(self, Type):\n",
        "\t\tif Type == 'Left_To_Right':\n",
        "\t\t\tcurrent = self.head\n",
        "\t\t\twhile current is not None:\n",
        "\t\t\t\tprint(current.data, end=' ')\n",
        "\t\t\t\tcurrent = current.next\n",
        "\t\t\tprint()\n",
        "\t\telse:\n",
        "\t\t\tcurrent = self.last_node\n",
        "\t\t\twhile current is not None:\n",
        "\t\t\t\tprint(current.data, end=' ')\n",
        "\t\t\t\tcurrent = current.previous\n",
        "\t\t\tprint()\n",
        "\n",
        "# Driver code\n",
        "if __name__ == '__main__':\n",
        "\tL = DoublyLinkedList()\n",
        "\tL.append(1)\n",
        "\tL.append(2)\n",
        "\tL.append(3)\n",
        "\tL.append(4)\n",
        "\tL.display('Left_To_Right')\n",
        "\tL.display('Right_To_Left')\n"
      ],
      "metadata": {
        "id": "5qFMVhmCTU9r",
        "colab": {
          "base_uri": "https://localhost:8080/"
        },
        "outputId": "8906a5b4-5dae-4c5e-b19c-1d63e5de8576"
      },
      "execution_count": null,
      "outputs": [
        {
          "output_type": "stream",
          "name": "stdout",
          "text": [
            "1 2 3 4 \n",
            "4 3 2 1 \n"
          ]
        }
      ]
    },
    {
      "cell_type": "markdown",
      "source": [
        "Circular Linked List\n",
        "A circular linked list is that in which the last node contains the pointer to the first node of the list."
      ],
      "metadata": {
        "id": "UsUIEvOpdDDk"
      }
    },
    {
      "cell_type": "code",
      "source": [
        "# Python3 program to illustrate\n",
        "# creation and traversal of\n",
        "# Circular LL\n",
        "\n",
        "# structure of Node\n",
        "class Node:\n",
        "\tdef __init__(self, data):\n",
        "\t\tself.data = data\n",
        "\t\tself.next = None\n",
        "\n",
        "\n",
        "class CircularLinkedList:\n",
        "\tdef __init__(self):\n",
        "\t\tself.head = None\n",
        "\t\tself.last_node = None\n",
        "\n",
        "\t# function to add elements to circular linked list\n",
        "\tdef append(self, data):\n",
        "\t\t# is circular linked list is empty then last_node will be none so in if condition head will be created\n",
        "\t\tif self.last_node is None:\n",
        "\t\t\tself.head = Node(data)\n",
        "\t\t\tself.last_node = self.head\n",
        "\t\t# adding node to the tail of circular linked list\n",
        "\t\telse:\n",
        "\t\t\tself.last_node.next = Node(data)\n",
        "\t\t\tself.last_node = self.last_node.next\n",
        "\t\t\tself.last_node.next = self.head\n",
        "\n",
        "\t# function to print the content of circular linked list\n",
        "\tdef display(self):\n",
        "\t\tcurrent = self.head\n",
        "\t\twhile current is not None:\n",
        "\t\t\tprint(current.data, end=' ')\n",
        "\t\t\tcurrent = current.next\n",
        "\t\t\tif current == self.head:\n",
        "\t\t\t\tbreak\n",
        "\t\tprint()\n",
        "\n",
        "# Driver code\n",
        "if __name__ == '__main__':\n",
        "\tL = CircularLinkedList()\n",
        "\tL.append(12)\n",
        "\tL.append(56)\n",
        "\tL.append(2)\n",
        "\tL.append(11)\n",
        "\n",
        "\t# Function call\n",
        "\tL.display()\n"
      ],
      "metadata": {
        "colab": {
          "base_uri": "https://localhost:8080/"
        },
        "id": "AIh--wcmcbx9",
        "outputId": "278f29e7-430f-4439-b459-1ac8b7cbfc3b"
      },
      "execution_count": null,
      "outputs": [
        {
          "output_type": "stream",
          "name": "stdout",
          "text": [
            "12 56 2 11 \n"
          ]
        }
      ]
    },
    {
      "cell_type": "markdown",
      "source": [
        "Header Linked List:\n",
        "A header linked list is a special type of linked list that contains a header node at the beginning of the list."
      ],
      "metadata": {
        "id": "lJoz1oqTdBg0"
      }
    },
    {
      "cell_type": "code",
      "source": [
        "# Python3 program to illustrate creation\n",
        "# and traversal of Header Linked List\n",
        "\n",
        "# structure of Node\n",
        "class Node:\n",
        "\tdef __init__(self, data):\n",
        "\t\tself.data = data\n",
        "\t\tself.next = None\n",
        "\n",
        "\n",
        "class LinkedList:\n",
        "\tdef __init__(self):\n",
        "\t\tself.head = Node(0)\n",
        "\t\tself.last_node = self.head\n",
        "\n",
        "\t# function to add elements to header linked list\n",
        "\tdef append(self, data):\n",
        "\t\tself.last_node.next = Node(data)\n",
        "\t\tself.last_node = self.last_node.next\n",
        "\n",
        "\t# function to print the content of header linked list\n",
        "\tdef display(self):\n",
        "\t\tcurrent = self.head.next\n",
        "\t\t# traversing the header linked list\n",
        "\t\twhile current is not None:\n",
        "\t\t\t# at each node printing its data\n",
        "\t\t\tprint(current.data, end=' ')\n",
        "\t\t\t# giving current next node\n",
        "\t\t\tcurrent = current.next\n",
        "\t\t# print(self.head.data)\n",
        "\t\tprint()\n",
        "\n",
        "# Driver code\n",
        "if __name__ == '__main__':\n",
        "\tL = LinkedList()\n",
        "\t# adding elements to the header linked list\n",
        "\tL.append(1)\n",
        "\tL.append(2)\n",
        "\tL.append(3)\n",
        "\tL.append(4)\n",
        "\t# displaying elements of header linked list\n",
        "\tL.display()\n"
      ],
      "metadata": {
        "id": "uQLRmoonddTQ",
        "outputId": "c54859b3-17f2-4ed0-bdd1-70c5bc7839d8",
        "colab": {
          "base_uri": "https://localhost:8080/"
        }
      },
      "execution_count": null,
      "outputs": [
        {
          "output_type": "stream",
          "name": "stdout",
          "text": [
            "1 2 3 4 \n"
          ]
        }
      ]
    },
    {
      "cell_type": "code",
      "source": [],
      "metadata": {
        "id": "Ceebf9RUdjEx"
      },
      "execution_count": null,
      "outputs": []
    }
  ]
}
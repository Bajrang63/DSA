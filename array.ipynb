{
 "cells": [
  {
   "cell_type": "code",
   "execution_count": 3,
   "id": "3eb83666-e6fe-49fe-bfb5-9951bd416110",
   "metadata": {},
   "outputs": [],
   "source": [
    "####__________Array\n",
    "\n",
    "## 1.Given an array, check if it contains any duplicates or not.\n",
    "## arr = [1, 2, 4, 2, 5, 9]\n",
    "\n",
    "\n",
    "\n",
    "\n",
    "def check_duplicates(arr):\n",
    "    return len(arr) != len(set(arr))\n"
   ]
  },
  {
   "cell_type": "code",
   "execution_count": 4,
   "id": "47cbe52d-ea11-45c6-985f-825329c00904",
   "metadata": {},
   "outputs": [
    {
     "data": {
      "text/plain": [
       "True"
      ]
     },
     "execution_count": 4,
     "metadata": {},
     "output_type": "execute_result"
    }
   ],
   "source": [
    "check_duplicates([1,2,4,2,5,9])  #Output = True"
   ]
  },
  {
   "cell_type": "code",
   "execution_count": 18,
   "id": "adfd10ba-7f4a-4537-9b56-239d04bd20f4",
   "metadata": {},
   "outputs": [],
   "source": [
    "\n",
    "## 2.Given an array and an integer k, rotate the array to the right by k steps.\n",
    "arr = [1, 2, 3, 4, 5, 6, 7]\n",
    "k = 3\n",
    "def rotate_array(arr, k):\n",
    "    n = len(arr)\n",
    "    k = k % n\n",
    "    arr[:] = arr[n-k:] + arr[:n-k]\n",
    "    return arr \n"
   ]
  },
  {
   "cell_type": "code",
   "execution_count": 20,
   "id": "0693765f-b89d-4b0e-9a74-7545de076034",
   "metadata": {},
   "outputs": [
    {
     "data": {
      "text/plain": [
       "[5, 6, 7, 1, 2, 3, 4]"
      ]
     },
     "execution_count": 20,
     "metadata": {},
     "output_type": "execute_result"
    }
   ],
   "source": [
    "rotate_array(arr,k)##Output = [5, 6, 7, 1, 2, 3, 4] "
   ]
  },
  {
   "cell_type": "code",
   "execution_count": 26,
   "id": "2564c037-785c-435f-80cb-44a03a63806d",
   "metadata": {},
   "outputs": [],
   "source": [
    "## 3.Reverse the given array in-place, means without using any extra data structure.\n",
    "\n",
    "arr = [2, 4, 5, 7, 9, 12]\n",
    "def reverse_array(arr):\n",
    "    n = len(arr)\n",
    "    for i in range(n // 2):\n",
    "        arr[i], arr[n-i-1] = arr[n-i-1], arr[i]\n",
    "    return arr\n"
   ]
  },
  {
   "cell_type": "code",
   "execution_count": 27,
   "id": "220692ef-69da-441d-b113-4fc73b105778",
   "metadata": {},
   "outputs": [
    {
     "data": {
      "text/plain": [
       "[12, 9, 7, 5, 4, 2]"
      ]
     },
     "execution_count": 27,
     "metadata": {},
     "output_type": "execute_result"
    }
   ],
   "source": [
    "reverse_array(arr)"
   ]
  },
  {
   "cell_type": "code",
   "execution_count": 34,
   "id": "8e21fcbb-48ae-4dee-b84c-75b547a0bc14",
   "metadata": {},
   "outputs": [],
   "source": [
    "## 4.Given an array of integers, find the maximum element in an array\n",
    "\n",
    "arr = [10, 5, 20, 8, 15]\n",
    "def maximum_array(arr):\n",
    "        return max(arr)\n"
   ]
  },
  {
   "cell_type": "code",
   "execution_count": 35,
   "id": "93996a69-04de-4b68-89a1-14e39332a9e7",
   "metadata": {},
   "outputs": [
    {
     "data": {
      "text/plain": [
       "20"
      ]
     },
     "execution_count": 35,
     "metadata": {},
     "output_type": "execute_result"
    }
   ],
   "source": [
    "maximum_array(arr)"
   ]
  },
  {
   "cell_type": "code",
   "execution_count": 40,
   "id": "1acf9d3c-7dc0-4c79-a6fc-9de22e698ea2",
   "metadata": {},
   "outputs": [],
   "source": [
    "## 5.Given a sorted array, remove the duplicate element without using any extra data structure.\n",
    "\n",
    "arr = [1, 1, 2, 2, 2, 3, 3, 4, 4, 4, 5, 5]\n",
    "\n",
    "def remove_duplicates(arr):\n",
    "    n = len(arr)\n",
    "    if n == 0 or n == 1:\n",
    "        return n\n",
    "    j = 0\n",
    "    for i in range(n - 1):\n",
    "        if arr[i] != arr[i + 1]:\n",
    "            arr[j] = arr[i]\n",
    "            j += 1\n",
    "    arr[j] = arr[n - 1]\n",
    "    return arr[j+1]\n",
    "   \n",
    "\n"
   ]
  },
  {
   "cell_type": "code",
   "execution_count": 43,
   "id": "81164970-a097-4ea3-a1d4-a0d2e667504c",
   "metadata": {},
   "outputs": [
    {
     "ename": "TypeError",
     "evalue": "remove_duplicates() missing 1 required positional argument: 'n'",
     "output_type": "error",
     "traceback": [
      "\u001b[0;31m---------------------------------------------------------------------------\u001b[0m",
      "\u001b[0;31mTypeError\u001b[0m                                 Traceback (most recent call last)",
      "Cell \u001b[0;32mIn[43], line 1\u001b[0m\n\u001b[0;32m----> 1\u001b[0m \u001b[43mremove_duplicates\u001b[49m\u001b[43m(\u001b[49m\u001b[43marr\u001b[49m\u001b[43m)\u001b[49m\n",
      "\u001b[0;31mTypeError\u001b[0m: remove_duplicates() missing 1 required positional argument: 'n'"
     ]
    }
   ],
   "source": [
    "remove_duplicates(arr)"
   ]
  },
  {
   "cell_type": "code",
   "execution_count": null,
   "id": "80b2d37b-d68b-4bd8-ab94-91d5d2691458",
   "metadata": {},
   "outputs": [],
   "source": []
  },
  {
   "cell_type": "code",
   "execution_count": null,
   "id": "5967dff6-49ca-4244-8c4e-c35be67c07ce",
   "metadata": {},
   "outputs": [],
   "source": []
  }
 ],
 "metadata": {
  "kernelspec": {
   "display_name": "Python 3 (ipykernel)",
   "language": "python",
   "name": "python3"
  },
  "language_info": {
   "codemirror_mode": {
    "name": "ipython",
    "version": 3
   },
   "file_extension": ".py",
   "mimetype": "text/x-python",
   "name": "python",
   "nbconvert_exporter": "python",
   "pygments_lexer": "ipython3",
   "version": "3.10.8"
  }
 },
 "nbformat": 4,
 "nbformat_minor": 5
}
